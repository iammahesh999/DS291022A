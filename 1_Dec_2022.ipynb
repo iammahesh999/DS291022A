{
  "cells": [
    {
      "cell_type": "code",
      "execution_count": null,
      "metadata": {
        "id": "-97r6gUNADBi"
      },
      "outputs": [],
      "source": [
        "import re\n"
      ]
    },
    {
      "cell_type": "code",
      "execution_count": null,
      "metadata": {
        "id": "1lBtzclCAf_N"
      },
      "outputs": [],
      "source": [
        "## Function Programming (map, lambda , filter)"
      ]
    },
    {
      "cell_type": "code",
      "execution_count": null,
      "metadata": {
        "id": "EGTMBdt5AgCy"
      },
      "outputs": [],
      "source": [
        "def splitF(x):\n",
        "  return x.split('-')"
      ]
    },
    {
      "cell_type": "code",
      "execution_count": null,
      "metadata": {
        "colab": {
          "base_uri": "https://localhost:8080/"
        },
        "id": "uJ9zEabrAgGS",
        "outputId": "9fab86de-23c3-4851-8c87-9df1ba42133b"
      },
      "outputs": [
        {
          "data": {
            "text/plain": [
              "['Uttam', 'Grade']"
            ]
          },
          "execution_count": 4,
          "metadata": {},
          "output_type": "execute_result"
        }
      ],
      "source": [
        "splitF('Uttam-Grade')"
      ]
    },
    {
      "cell_type": "code",
      "execution_count": null,
      "metadata": {
        "colab": {
          "base_uri": "https://localhost:8080/"
        },
        "id": "xvLt1P9AAgIc",
        "outputId": "1ad09a1d-e3bd-4574-d3a1-27de5d7ddd24"
      },
      "outputs": [
        {
          "data": {
            "text/plain": [
              "[['Uttam', 'Grade'],\n",
              " ['Venom', 'the', 'alian'],\n",
              " ['anand', 'solanki'],\n",
              " ['deepti', 'kuch']]"
            ]
          },
          "execution_count": 6,
          "metadata": {},
          "output_type": "execute_result"
        }
      ],
      "source": [
        "from posixpath import split\n",
        "a = ['Uttam-Grade', 'Venom-the-alian', 'anand-solanki', 'deepti-kuch']\n",
        "list(map(splitF, a))"
      ]
    },
    {
      "cell_type": "code",
      "execution_count": null,
      "metadata": {
        "id": "31cP6znSAgKn"
      },
      "outputs": [],
      "source": [
        "### lambda ( function - def)\n",
        "lambda x: x.split('-')"
      ]
    },
    {
      "cell_type": "code",
      "execution_count": null,
      "metadata": {
        "colab": {
          "base_uri": "https://localhost:8080/"
        },
        "id": "2rHy7hPrAgNG",
        "outputId": "d17ac4e8-0cc5-4966-9ab1-7d61b8aca431"
      },
      "outputs": [
        {
          "data": {
            "text/plain": [
              "[['Uttam', 'Grade'],\n",
              " ['Venom', 'the', 'alian'],\n",
              " ['anand', 'solanki'],\n",
              " ['deepti', 'kuch']]"
            ]
          },
          "execution_count": 7,
          "metadata": {},
          "output_type": "execute_result"
        }
      ],
      "source": [
        "list(map(lambda x: x.split('-'), a))"
      ]
    },
    {
      "cell_type": "code",
      "execution_count": null,
      "metadata": {
        "id": "GTNttrJdAgQc"
      },
      "outputs": [],
      "source": [
        "### Filter ### (it will filter the values)\n",
        "\n",
        "def filter_values(x):\n",
        "\n",
        "  l = ['a', 'e', 'i', 'o', 'u']\n",
        "  \n",
        "  if x in l:\n",
        "    return True\n",
        "  else:\n",
        "    return False"
      ]
    },
    {
      "cell_type": "code",
      "execution_count": null,
      "metadata": {
        "id": "un1NlUErFSiN"
      },
      "outputs": [],
      "source": [
        "b = ['U', 'u', 'a','g', 'f', 'h' , 'i', 'j', 'k' , 'z']"
      ]
    },
    {
      "cell_type": "code",
      "execution_count": null,
      "metadata": {
        "colab": {
          "base_uri": "https://localhost:8080/"
        },
        "id": "UrggcbgYFnGo",
        "outputId": "377c89a4-b0df-43c8-f53e-a139ad40ddb0"
      },
      "outputs": [
        {
          "data": {
            "text/plain": [
              "[False, True, True, False, False, False, True, False, False, False]"
            ]
          },
          "execution_count": 13,
          "metadata": {},
          "output_type": "execute_result"
        }
      ],
      "source": [
        "list(map(filter_values, b))"
      ]
    },
    {
      "cell_type": "code",
      "execution_count": null,
      "metadata": {
        "colab": {
          "base_uri": "https://localhost:8080/"
        },
        "id": "Dn7tox0tFnKH",
        "outputId": "36a9bae5-aab5-4d30-e8ba-804a96ee013d"
      },
      "outputs": [
        {
          "data": {
            "text/plain": [
              "['u', 'a', 'i']"
            ]
          },
          "execution_count": 15,
          "metadata": {},
          "output_type": "execute_result"
        }
      ],
      "source": [
        "list(filter(filter_values, b))"
      ]
    },
    {
      "cell_type": "code",
      "execution_count": null,
      "metadata": {
        "colab": {
          "base_uri": "https://localhost:8080/"
        },
        "id": "SPIX60U1AgT3",
        "outputId": "50b16df3-4b66-4afa-cde6-9588a9dfecb4"
      },
      "outputs": [
        {
          "data": {
            "text/plain": [
              "True"
            ]
          },
          "execution_count": 8,
          "metadata": {},
          "output_type": "execute_result"
        }
      ],
      "source": [
        "'a' in 'Uttam'"
      ]
    },
    {
      "cell_type": "code",
      "execution_count": null,
      "metadata": {
        "id": "MIpSMi4RAgXn"
      },
      "outputs": [],
      "source": [
        "def filter_values(x):\n",
        "    l=[\"a\",\"e\",\"i\",\"o\",\"u\"]\n",
        "    if x in l:\n",
        "        return True\n",
        "    else:\n",
        "        return False\n"
      ]
    },
    {
      "cell_type": "code",
      "execution_count": null,
      "metadata": {
        "id": "2QYepFbGAgaT"
      },
      "outputs": [],
      "source": [
        "a=[\"a\",\"b\",\"c\",\"d\",\"e\"]\n"
      ]
    },
    {
      "cell_type": "code",
      "execution_count": null,
      "metadata": {
        "colab": {
          "base_uri": "https://localhost:8080/"
        },
        "id": "ZGMss_epAgdf",
        "outputId": "493dd279-2301-40f2-f4c7-ff7befd183f1"
      },
      "outputs": [
        {
          "data": {
            "text/plain": [
              "['a', 'e']"
            ]
          },
          "execution_count": 24,
          "metadata": {},
          "output_type": "execute_result"
        }
      ],
      "source": [
        "list(filter(filter_values,a))\n"
      ]
    },
    {
      "cell_type": "code",
      "execution_count": null,
      "metadata": {
        "id": "gluDbsVrAggr"
      },
      "outputs": [],
      "source": [
        "############### List Comprehention ##########\n",
        "b = [i for i in range(1,10) if i % 2==0]"
      ]
    },
    {
      "cell_type": "code",
      "execution_count": null,
      "metadata": {
        "colab": {
          "base_uri": "https://localhost:8080/"
        },
        "id": "HJW2kYNVQsV3",
        "outputId": "3e8913a1-f64c-4aca-95c3-c82df143dfaf"
      },
      "outputs": [
        {
          "data": {
            "text/plain": [
              "[2, 4, 6, 8]"
            ]
          },
          "execution_count": 40,
          "metadata": {},
          "output_type": "execute_result"
        }
      ],
      "source": [
        "b"
      ]
    },
    {
      "cell_type": "code",
      "execution_count": null,
      "metadata": {
        "colab": {
          "base_uri": "https://localhost:8080/",
          "height": 134
        },
        "id": "rrfGC0f1Ntcs",
        "outputId": "0faab55e-dd72-4ca0-c85d-daeee4a4cbaa"
      },
      "outputs": [
        {
          "ename": "SyntaxError",
          "evalue": "ignored",
          "output_type": "error",
          "traceback": [
            "\u001b[0;36m  File \u001b[0;32m\"<ipython-input-36-0dac934046e2>\"\u001b[0;36m, line \u001b[0;32m1\u001b[0m\n\u001b[0;31m    [i if i % 2==0 for i in range(1,10)]\u001b[0m\n\u001b[0m                   ^\u001b[0m\n\u001b[0;31mSyntaxError\u001b[0m\u001b[0;31m:\u001b[0m invalid syntax\n"
          ]
        }
      ],
      "source": [
        "[i if i % 2==0 for i in range(1,10)]"
      ]
    },
    {
      "cell_type": "code",
      "execution_count": null,
      "metadata": {
        "id": "9Ev5Ymr3JwFk"
      },
      "outputs": [],
      "source": [
        "a = []\n",
        "for i in range(1,10):\n",
        "  if i % 2 ==0:\n",
        "\n",
        "    a.append(i)"
      ]
    },
    {
      "cell_type": "code",
      "execution_count": null,
      "metadata": {
        "colab": {
          "base_uri": "https://localhost:8080/"
        },
        "id": "BwP1biF6JwIQ",
        "outputId": "2777acfe-5730-42e7-9d15-658bc876bf64"
      },
      "outputs": [
        {
          "data": {
            "text/plain": [
              "[2, 4, 6, 8]"
            ]
          },
          "execution_count": 30,
          "metadata": {},
          "output_type": "execute_result"
        }
      ],
      "source": [
        "a"
      ]
    },
    {
      "cell_type": "code",
      "execution_count": null,
      "metadata": {
        "colab": {
          "base_uri": "https://localhost:8080/"
        },
        "id": "bpF4Ibn-JwK-",
        "outputId": "f61406f2-e247-4329-b118-b794b0250e9a"
      },
      "outputs": [
        {
          "data": {
            "text/plain": [
              "[(12, '*', 1, '=', 12),\n",
              " (12, '*', 2, '=', 24),\n",
              " (12, '*', 3, '=', 36),\n",
              " (12, '*', 4, '=', 48),\n",
              " (12, '*', 5, '=', 60),\n",
              " (12, '*', 6, '=', 72),\n",
              " (12, '*', 7, '=', 84),\n",
              " (12, '*', 8, '=', 96),\n",
              " (12, '*', 9, '=', 108),\n",
              " (12, '*', 10, '=', 120)]"
            ]
          },
          "execution_count": 38,
          "metadata": {},
          "output_type": "execute_result"
        }
      ],
      "source": [
        "n = 12\n",
        "[(n,'*',i,'=',n*i) for i in range(1,11)]\n"
      ]
    },
    {
      "cell_type": "code",
      "execution_count": null,
      "metadata": {
        "colab": {
          "base_uri": "https://localhost:8080/"
        },
        "id": "WTREPqYwJwNz",
        "outputId": "99a716da-1327-423d-c21b-4fd24dcbe7f0"
      },
      "outputs": [
        {
          "name": "stdout",
          "output_type": "stream",
          "text": [
            "enter the numbers: 123456789\n"
          ]
        },
        {
          "data": {
            "text/plain": [
              "[1, 2, 3, 4, 5, 6, 7, 8, 9]"
            ]
          },
          "execution_count": 43,
          "metadata": {},
          "output_type": "execute_result"
        }
      ],
      "source": [
        "############## game of functions ############\n",
        "list1 = input(\"enter the numbers: \")\n",
        "#list2 = []\n",
        "def game_of_functions(x):\n",
        "  a = 0\n",
        "  [list1 for i in list1]\n",
        "    #list2.append(int(i))   \n",
        "  return [int(i)+a for i in list1]\n",
        "    \n",
        "\n",
        "game_of_functions(list1)\n"
      ]
    },
    {
      "cell_type": "code",
      "execution_count": null,
      "metadata": {
        "colab": {
          "base_uri": "https://localhost:8080/"
        },
        "id": "sCem07NEJwQZ",
        "outputId": "f9ea6050-f84d-4bf9-ea42-eeab37db775f"
      },
      "outputs": [
        {
          "name": "stdout",
          "output_type": "stream",
          "text": [
            "enter the numbers: 12345\n"
          ]
        },
        {
          "data": {
            "text/plain": [
              "[1, 2, 3, 4, 5]"
            ]
          },
          "execution_count": 47,
          "metadata": {},
          "output_type": "execute_result"
        }
      ],
      "source": [
        "list1 = input(\"enter the numbers: \")\n",
        "\n",
        "def game_of_functions(x):\n",
        "  a = 0\n",
        "  a = [int(i)+a for i in list1]\n",
        "  return a\n",
        "       \n",
        "  # for i in list1 :\n",
        "  #   a = int(i) + a\n",
        "\n",
        "  # print(a)\n",
        "\n",
        "game_of_functions(list1)\n"
      ]
    },
    {
      "cell_type": "code",
      "execution_count": null,
      "metadata": {
        "id": "dJ2XoeSZJwSz"
      },
      "outputs": [],
      "source": [
        "############ Seek(it willl set the current file location) \n",
        "####Tell ###"
      ]
    },
    {
      "cell_type": "code",
      "execution_count": null,
      "metadata": {
        "colab": {
          "base_uri": "https://localhost:8080/"
        },
        "id": "XE9XD4h4JwVe",
        "outputId": "ca34fdf3-bd0b-4255-b98e-6c0af1028387"
      },
      "outputs": [
        {
          "name": "stdout",
          "output_type": "stream",
          "text": [
            "Quod equidem non reprehendo;\n",
            "\n",
            "29\n"
          ]
        }
      ],
      "source": [
        "f = open('/content/sample3.txt', 'r')\n",
        "print(f.readline())\n",
        "print(f.tell())"
      ]
    },
    {
      "cell_type": "code",
      "execution_count": null,
      "metadata": {
        "colab": {
          "base_uri": "https://localhost:8080/"
        },
        "id": "BMrFTLryJwXq",
        "outputId": "1690b4aa-b9a9-4c33-fb87-a3ed3218ff0f"
      },
      "outputs": [
        {
          "name": "stdout",
          "output_type": "stream",
          "text": [
            "5\n",
            "equidem non reprehendo;\n",
            "\n"
          ]
        }
      ],
      "source": [
        "f = open('/content/sample3.txt', 'r')\n",
        "print(f.seek(5))\n",
        "print(f.readline())\n"
      ]
    },
    {
      "cell_type": "code",
      "execution_count": null,
      "metadata": {
        "id": "5CRT7ADBJwbS"
      },
      "outputs": [],
      "source": []
    },
    {
      "cell_type": "code",
      "execution_count": null,
      "metadata": {
        "id": "4H5_hhOZADrl"
      },
      "outputs": [],
      "source": []
    },
    {
      "cell_type": "code",
      "execution_count": null,
      "metadata": {
        "id": "acGI69f3ADvQ"
      },
      "outputs": [],
      "source": []
    },
    {
      "cell_type": "code",
      "execution_count": null,
      "metadata": {
        "id": "BiFQqOKQADzc"
      },
      "outputs": [],
      "source": [
        "########### write a python program to perform two if condition in list comprehention\n",
        "# check the values is divisible by 2 and 5 use else condtion as well"
      ]
    },
    {
      "cell_type": "code",
      "execution_count": null,
      "metadata": {
        "id": "CuRC9XUFAD2Q"
      },
      "outputs": [],
      "source": [
        "## Transpose a matrix using a list comprehension\n",
        "m = [[1,2], [3,4], [5,6], [7,8]]\n",
        "\n",
        "# output [[1,3,5,7], [2,3,6,8]]"
      ]
    },
    {
      "cell_type": "code",
      "execution_count": null,
      "metadata": {
        "id": "7JWD-sm5AD71"
      },
      "outputs": [],
      "source": []
    },
    {
      "cell_type": "code",
      "execution_count": null,
      "metadata": {
        "id": "X9dFYzlAMtAN"
      },
      "outputs": [],
      "source": []
    },
    {
      "cell_type": "markdown",
      "metadata": {
        "id": "CMyGODj8MuHt"
      },
      "source": [
        "## 2_December_2022"
      ]
    },
    {
      "cell_type": "code",
      "execution_count": null,
      "metadata": {
        "colab": {
          "base_uri": "https://localhost:8080/"
        },
        "id": "YqhJfVPfMtDm",
        "outputId": "6c9d6603-509c-4a0c-c006-18e06d34a9f6"
      },
      "outputs": [
        {
          "name": "stdout",
          "output_type": "stream",
          "text": [
            "Equal\n"
          ]
        }
      ],
      "source": [
        "a = 10\n",
        "b = 10\n",
        "\n",
        "if a > b: \n",
        "  print(a) \n",
        "\n",
        "elif a == b:\n",
        "  print('Equal')\n",
        "\n",
        "elif a == 10:\n",
        "  print('10')\n",
        "\n",
        "else: \n",
        "  print(b)\n"
      ]
    },
    {
      "cell_type": "code",
      "execution_count": null,
      "metadata": {
        "colab": {
          "base_uri": "https://localhost:8080/"
        },
        "id": "vN2VZDqlMtGf",
        "outputId": "f742f96c-f117-4cff-c65f-a0594a2decec"
      },
      "outputs": [
        {
          "data": {
            "text/plain": [
              "False"
            ]
          },
          "execution_count": 13,
          "metadata": {},
          "output_type": "execute_result"
        }
      ],
      "source": [
        "def xyz(n):\n",
        "  if n in range(0,10):\n",
        "    return True\n",
        "  else:\n",
        "    return False\n",
        "\n",
        "xyz(10)"
      ]
    },
    {
      "cell_type": "code",
      "execution_count": null,
      "metadata": {
        "id": "nF56SfGWMtJF"
      },
      "outputs": [],
      "source": [
        "# Write a program to calculate the sum of series up to n term. \n",
        "# For example, if n =5 the series will become 2 + 22 + 222 + 2222 + 22222 = 24690\n",
        "\n",
        "# a=int(input())\n",
        "# b=0\n",
        "# c =0\n",
        "# while a>=1:\n",
        "#     b = 2+(b*10)\n",
        "#     c+=b\n",
        "#     a-=1\n",
        "# print(c)\n"
      ]
    },
    {
      "cell_type": "code",
      "execution_count": null,
      "metadata": {
        "id": "BSuVkrZnMtMQ"
      },
      "outputs": [],
      "source": []
    },
    {
      "cell_type": "code",
      "execution_count": null,
      "metadata": {
        "id": "R2rv2owzMtWn"
      },
      "outputs": [],
      "source": []
    },
    {
      "cell_type": "code",
      "execution_count": null,
      "metadata": {
        "id": "Ba8Mo4tnMtZH"
      },
      "outputs": [],
      "source": []
    },
    {
      "cell_type": "code",
      "execution_count": null,
      "metadata": {
        "id": "-NBAbzcyMtc6"
      },
      "outputs": [],
      "source": []
    },
    {
      "cell_type": "code",
      "execution_count": null,
      "metadata": {
        "id": "60BxQbK8L-vM"
      },
      "outputs": [],
      "source": []
    },
    {
      "cell_type": "code",
      "execution_count": null,
      "metadata": {
        "id": "07pOw-K6L-yF"
      },
      "outputs": [],
      "source": []
    },
    {
      "cell_type": "code",
      "execution_count": null,
      "metadata": {
        "id": "jflpbXJTL-08"
      },
      "outputs": [],
      "source": []
    },
    {
      "cell_type": "code",
      "execution_count": null,
      "metadata": {
        "id": "uOcWnf3WAD_2"
      },
      "outputs": [],
      "source": []
    }
  ],
  "metadata": {
    "colab": {
      "provenance": []
    },
    "kernelspec": {
      "display_name": "Python 3",
      "language": "python",
      "name": "python3"
    },
    "language_info": {
      "name": "python",
      "version": "3.8.0 (tags/v3.8.0:fa919fd, Oct 14 2019, 19:37:50) [MSC v.1916 64 bit (AMD64)]"
    },
    "vscode": {
      "interpreter": {
        "hash": "56b08784a8527db5bc9efcbc242a64cd7d38b0588681937b30572cadfa41621f"
      }
    }
  },
  "nbformat": 4,
  "nbformat_minor": 0
}
